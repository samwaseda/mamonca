{
 "cells": [
  {
   "cell_type": "markdown",
   "id": "43ca64ec",
   "metadata": {},
   "source": [
    "# First steps into `mamonca`\n",
    "\n",
    "Table of contents\n",
    "\n",
    "- Calculation of Curie temperature\n",
    "- Metadynamics for the free energy difference of ferro- and paramagnetic states\n",
    "- Thermodynamic integration for the free energy difference of fictitious bcc and fcc phases.\n",
    "\n",
    "In this example, we are going to use the structure class from `pyiron`, which allows you for easy analysis of the crystal neighborhood"
   ]
  },
  {
   "cell_type": "code",
   "execution_count": 1,
   "id": "630a3d13",
   "metadata": {},
   "outputs": [],
   "source": [
    "from mamonca import MC\n",
    "import numpy as np\n",
    "\n",
    "from tqdm.auto import tqdm\n",
    "import matplotlib.pylab as plt"
   ]
  },
  {
   "cell_type": "code",
   "execution_count": 2,
   "id": "a175712e",
   "metadata": {},
   "outputs": [],
   "source": [
    "from pyiron_atomistics.atomistics.structure.factory import StructureFactory"
   ]
  },
  {
   "cell_type": "code",
   "execution_count": 3,
   "id": "8e508b81",
   "metadata": {},
   "outputs": [],
   "source": [
    "# Create bcc structure (which is the ground state of iron)\n",
    "bcc = StructureFactory().bulk(\"Fe\", cubic=True).repeat(10)\n",
    "\n",
    "neigh = bcc.get_neighbors(num_neighbors=8)"
   ]
  },
  {
   "cell_type": "markdown",
   "id": "19d1f767-0aea-41d0-ab77-4388b8c9a575",
   "metadata": {},
   "source": [
    "### Monte Carlo"
   ]
  },
  {
   "cell_type": "code",
   "execution_count": null,
   "id": "9eb9e964-4b50-4a46-b8c9-b25f59f3c0be",
   "metadata": {},
   "outputs": [
    {
     "data": {
      "application/vnd.jupyter.widget-view+json": {
       "model_id": "4b0c343da34b404989f09cf8db1051e9",
       "version_major": 2,
       "version_minor": 0
      },
      "text/plain": [
       "  0%|          | 0/16 [00:00<?, ?it/s]"
      ]
     },
     "metadata": {},
     "output_type": "display_data"
    }
   ],
   "source": [
    "J = 0.05 * neigh.get_shell_matrix()[0]\n",
    "\n",
    "mc = MC(len(bcc))\n",
    "mc.set_heisenberg_coeff(J)\n",
    "m_mc_lst = []\n",
    "T_lst = np.arange(0, 1600, 100)\n",
    "for T in tqdm(T_lst):\n",
    "    mc.run(temperature=T, number_of_iterations=20000)\n",
    "    m_mc_lst.append(mc.get_magnetization()[-1])"
   ]
  },
  {
   "cell_type": "markdown",
   "id": "a3d9c2d5-9725-4184-9a05-dcdfe1c360de",
   "metadata": {},
   "source": [
    "### Spin Dynamics\n",
    "\n",
    "Spin dynamics can be activated by the command `switch_spin_dynamics`. It takes a default value of 0.008 (unitless) for the damping parameter of the Langevin dynamics, following [this article](https://journals.aps.org/prb/abstract/10.1103/PhysRevB.86.054416), but in order to speed up the calculation, we use the value of 1, which strongly affects the dynamics. You can also see that even with such a high damping value the simulation takes quite some time."
   ]
  },
  {
   "cell_type": "code",
   "execution_count": null,
   "id": "a288c556-5bb3-43e5-961e-d5e7d5be36fa",
   "metadata": {},
   "outputs": [],
   "source": [
    "J = 0.05 * neigh.get_shell_matrix()[0]\n",
    "\n",
    "mc = MC(len(bcc))\n",
    "mc.set_heisenberg_coeff(J)\n",
    "mc.switch_spin_dynamics()\n",
    "m_sd_lst = []\n",
    "T_lst = np.arange(0, 1600, 100)\n",
    "for T in tqdm(T_lst):\n",
    "    mc.switch_spin_dynamics(damping_parameter=1)\n",
    "    mc.run(temperature=T, number_of_iterations=100000)\n",
    "    m_sd_lst.append(mc.get_magnetization()[-1])"
   ]
  },
  {
   "cell_type": "code",
   "execution_count": null,
   "id": "e89e68b3-ec2d-4cba-b604-ebea7cbf0cbb",
   "metadata": {},
   "outputs": [],
   "source": [
    "plt.xlabel(\"Temperature K\")\n",
    "plt.ylabel(\"Magnetization\")\n",
    "plt.ylim([0, 1])\n",
    "plt.grid()\n",
    "plt.plot(T_lst, m_mc_lst, label=\"Monte Carlo\")\n",
    "plt.plot(T_lst, m_sd_lst, label=\"Spin dynamics\")\n",
    "plt.legend();"
   ]
  },
  {
   "cell_type": "markdown",
   "id": "38c184fb",
   "metadata": {},
   "source": [
    "Here, as we chose the Heisenberg parameter randomly, the Curie temperature is somewhat higher than the experimental value of 1,043 K. In addition, since the system is relatively small, the total magnetization after the transition does not completely vanish. The residual magnetization values above the Curie temperature can therefore vary each time you run the simulation. The unit if the magnetization is given by the Heisenberg parameter. You can see that Monte Carlo and spin dynamics are (not so surprisingly) comparable."
   ]
  },
  {
   "cell_type": "markdown",
   "id": "68e1ce81-e718-456b-a1dd-2f9c3c709fa1",
   "metadata": {},
   "source": [
    "## Reproduce literature values"
   ]
  },
  {
   "cell_type": "code",
   "execution_count": null,
   "id": "1a31f058-a750-4d7a-8d4d-ad3061bf6406",
   "metadata": {},
   "outputs": [],
   "source": [
    "# Create bcc structure (which is the ground state of iron)\n",
    "bcc = StructureFactory().bulk(\"Fe\", cubic=True).repeat(20)\n",
    "\n",
    "neigh = bcc.get_neighbors(num_neighbors=80)"
   ]
  },
  {
   "cell_type": "code",
   "execution_count": null,
   "id": "2ed26f5d-c6ee-48d3-b37d-0daba5e3912f",
   "metadata": {},
   "outputs": [],
   "source": [
    "J_lst = np.array([3.39, 2.26, 0.83, 0.42, 0.44]) / 1000\n",
    "A = -0.259\n",
    "B = 0.0276"
   ]
  },
  {
   "cell_type": "code",
   "execution_count": null,
   "id": "6d446af4-3b94-4749-80fc-070baf05eefd",
   "metadata": {},
   "outputs": [],
   "source": [
    "mc = MC(len(bcc))\n",
    "for nn, JJ in zip(neigh.get_shell_matrix()[:len(J_lst)], J_lst):\n",
    "    mc.set_heisenberg_coeff(nn * JJ)\n",
    "mc.set_landau_coeff(A, 2)\n",
    "mc.set_landau_coeff(B, 4)\n",
    "m_lst = []\n",
    "T_lst = np.arange(0, 1600, 100)\n",
    "\n",
    "for T in tqdm(T_lst):\n",
    "    mc.run(temperature=T, number_of_iterations=20000)\n",
    "    m_lst.append(mc.get_magnetization()[-100:].mean())"
   ]
  },
  {
   "cell_type": "code",
   "execution_count": null,
   "id": "76c25102-0caf-4907-8248-98358a2317c7",
   "metadata": {},
   "outputs": [],
   "source": [
    "with open(\"../references/magnetization.dat\", \"r\") as f:\n",
    "    data = np.array(f.read().split(), dtype=float).reshape(-1, 2)"
   ]
  },
  {
   "cell_type": "code",
   "execution_count": null,
   "id": "0f20ea8e-18aa-43d0-b05e-730ab00ac09e",
   "metadata": {},
   "outputs": [],
   "source": [
    "plt.plot(*data.T, label=\"reference\")\n",
    "plt.ylabel(\"Magnetization\")\n",
    "plt.xlabel(\"Temperature K\")\n",
    "plt.grid()\n",
    "plt.plot(T_lst, m_lst / m_lst[0], label=\"mamonca\")\n",
    "plt.legend();"
   ]
  },
  {
   "cell_type": "markdown",
   "id": "8b1fed03",
   "metadata": {},
   "source": [
    "## Thermodynamic integration"
   ]
  },
  {
   "cell_type": "markdown",
   "id": "ef3e00f3-6e53-44d7-ab4e-3ebd60133215",
   "metadata": {},
   "source": [
    "Let's now take a look at the energy difference of iron in the two most prominent phases: Face-Centered-Cubic (fcc) and Body-Centered-Cubic (bcc). The energy difference can be calculated using [Thermodynamic Integration](https://en.wikipedia.org/wiki/Thermodynamic_integration), where we vary the unitless $\\lambda$ parameter (cf. [Wikipedia](https://en.wikipedia.org/wiki/Thermodynamic_integration#Derivation)) and integrate over the measured potential energies."
   ]
  },
  {
   "cell_type": "code",
   "execution_count": null,
   "id": "110b315b",
   "metadata": {},
   "outputs": [],
   "source": [
    "fcc = StructureFactory().bulk(\"Fe\", crystalstructure=\"fcc\", a=3.5, cubic=True).repeat(10)\n",
    "\n",
    "# Let's make a fictitious bcc structure by applying a strain of -10% along z.\n",
    "# This obviously does not create a real bcc structure, but it's good enough for our purpose to find the right neighbors\n",
    "bcc = fcc.apply_strain([0, 0, -0.1], return_box=True)\n",
    "\n",
    "neigh_fcc = fcc.get_neighbors()\n",
    "neigh_bcc = bcc.get_neighbors(num_neighbors=8)"
   ]
  },
  {
   "cell_type": "code",
   "execution_count": null,
   "id": "7f61d836",
   "metadata": {},
   "outputs": [],
   "source": [
    "J_fcc = -0.1\n",
    "J_bcc = 0.5"
   ]
  },
  {
   "cell_type": "code",
   "execution_count": null,
   "id": "a04adf31",
   "metadata": {},
   "outputs": [],
   "source": [
    "mc = MC(len(fcc))\n",
    "mc.set_heisenberg_coeff(J_bcc * neigh_bcc.get_shell_matrix()[0])\n",
    "mc.set_heisenberg_coeff(J_fcc * neigh_fcc.get_shell_matrix()[0], index=1)"
   ]
  },
  {
   "cell_type": "code",
   "execution_count": null,
   "id": "55a4c4a7",
   "metadata": {},
   "outputs": [],
   "source": [
    "ti_lambda = np.linspace(0, 1, 11)\n",
    "temperature = 300"
   ]
  },
  {
   "cell_type": "code",
   "execution_count": null,
   "id": "12103d66",
   "metadata": {},
   "outputs": [],
   "source": [
    "E_lst = []\n",
    "relaxation_steps = 5000\n",
    "measurement_steps = 5000\n",
    "for ll in ti_lambda:\n",
    "    mc.set_lambda(ll)\n",
    "    mc.run(temperature=temperature, number_of_iterations=relaxation_steps)\n",
    "    mc.run(temperature=temperature, number_of_iterations=measurement_steps)\n",
    "    E_lst.append(\n",
    "        [mc.get_mean_energy(index=ii) for ii in [0, 1]]\n",
    "    )"
   ]
  },
  {
   "cell_type": "code",
   "execution_count": null,
   "id": "d8f7f333",
   "metadata": {},
   "outputs": [],
   "source": [
    "E_diff = np.diff(E_lst, axis=-1).flatten() / len(fcc)\n",
    "plt.xlabel(\"lambda\")\n",
    "plt.ylabel(\"E_bcc - E_fcc\")\n",
    "plt.plot(ti_lambda, E_diff);"
   ]
  },
  {
   "cell_type": "code",
   "execution_count": null,
   "id": "b70a0bb0",
   "metadata": {},
   "outputs": [],
   "source": [
    "print(\"The free energy difference between bcc and fcc at 300 K is\", E_diff.sum() * np.diff(ti_lambda).mean(), \"eV\")"
   ]
  },
  {
   "cell_type": "markdown",
   "id": "35a34b81",
   "metadata": {},
   "source": [
    "## Metadynamics"
   ]
  },
  {
   "cell_type": "markdown",
   "id": "a992c792-8fe8-41be-ba54-cc8f726cee5f",
   "metadata": {},
   "source": [
    "[Metadynamics](https://en.wikipedia.org/wiki/Metadynamics) is a simulation method which allows for the free energy distribution along a collective variable defined by the user. In mamonca, you can use the total magnetization as the collective variable, meaning you can obtain the free energy distribution along the total magnetization. For this, you only need to call `set_metadynamics` before `run`, where you must also specify the maximum magnetization value. In order to obtain a reliable result, you should also test the robustness by varying `energy_increment` and `length_scale` (cf. [Wikipedia](https://en.wikipedia.org/wiki/Metadynamics#Algorithm), where `energy_increment` is called $\\omega$ and `length_scale` is called $\\sigma$)"
   ]
  },
  {
   "cell_type": "code",
   "execution_count": null,
   "id": "0dee5e1a",
   "metadata": {},
   "outputs": [],
   "source": [
    "# Create bcc structure (which is the ground state of iron)\n",
    "bcc = StructureFactory().bulk(\"Fe\", cubic=True).repeat(10)\n",
    "neigh = bcc.get_neighbors(num_neighbors=8)"
   ]
  },
  {
   "cell_type": "code",
   "execution_count": null,
   "id": "aa94c95b",
   "metadata": {},
   "outputs": [],
   "source": [
    "J = 0.05 * neigh.get_shell_matrix()[0]\n",
    "\n",
    "F_list = []\n",
    "for _ in range(10):\n",
    "    mc = MC(len(bcc))\n",
    "    mc.set_heisenberg_coeff(J)\n",
    "    temperature = 1000\n",
    "    mc.set_metadynamics(max_range=1)\n",
    "    mc.run(temperature=temperature, number_of_iterations=100000)\n",
    "    meta = mc.get_metadynamics_free_energy()\n",
    "    F_list.append(meta[\"free_energy\"])"
   ]
  },
  {
   "cell_type": "code",
   "execution_count": null,
   "id": "7abfdf91",
   "metadata": {},
   "outputs": [],
   "source": [
    "plt.xlabel(\"Magnetization\")\n",
    "plt.ylabel(\"Free energy eV\")\n",
    "plt.plot(meta[\"magnetization\"], np.mean(F_list, axis=0)"
   ]
  },
  {
   "cell_type": "markdown",
   "id": "b8bf7959-f89f-43a1-ba9f-ca4e30678c2d",
   "metadata": {},
   "source": [
    "The free energy minimum shows the most stable state. In this case it is around 0.6. Metadynamics, however, often requires a meticulous sampling, meaning with the standard energy increment of 0.001, you might overshoot and miss the global minimum. For a real measurement, it is recommended to make it as small as possible, meaning you should estimate the amount of time needed to run your calculation with Metadynamics with a small energy increment value and see what would be an acceptable total computation time."
   ]
  },
  {
   "cell_type": "code",
   "execution_count": null,
   "id": "9bf9c044-1a27-45b1-a582-cf72fddc5bb8",
   "metadata": {},
   "outputs": [],
   "source": []
  }
 ],
 "metadata": {
  "kernelspec": {
   "display_name": "pyiron",
   "language": "python",
   "name": "pyiron"
  },
  "language_info": {
   "codemirror_mode": {
    "name": "ipython",
    "version": 3
   },
   "file_extension": ".py",
   "mimetype": "text/x-python",
   "name": "python",
   "nbconvert_exporter": "python",
   "pygments_lexer": "ipython3",
   "version": "3.11.9"
  }
 },
 "nbformat": 4,
 "nbformat_minor": 5
}
