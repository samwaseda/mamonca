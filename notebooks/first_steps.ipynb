{
 "cells": [
  {
   "cell_type": "markdown",
   "id": "43ca64ec",
   "metadata": {},
   "source": [
    "# First steps into `mamonca`\n",
    "\n",
    "Table of contents\n",
    "\n",
    "- Calculation of Curie temperature\n",
    "- Metadynamics for the free energy difference of ferro- and paramagnetic states\n",
    "- Thermodynamic integration for the free energy difference of fictitious bcc and fcc phases.\n",
    "\n",
    "In this example, we are going to use the structure class from `pyiron`, which allows you for easy analysis of the crystal neighborhood"
   ]
  },
  {
   "cell_type": "code",
   "execution_count": 1,
   "id": "630a3d13",
   "metadata": {},
   "outputs": [],
   "source": [
    "from mamonca import MC\n",
    "import numpy as np\n",
    "import matplotlib.pylab as plt"
   ]
  },
  {
   "cell_type": "code",
   "execution_count": 2,
   "id": "a175712e",
   "metadata": {},
   "outputs": [],
   "source": [
    "from pyiron_atomistics.atomistics.structure.factory import StructureFactory"
   ]
  },
  {
   "cell_type": "code",
   "execution_count": 3,
   "id": "8e508b81",
   "metadata": {},
   "outputs": [],
   "source": [
    "# Create bcc structure (which is the ground state of iron)\n",
    "bcc = StructureFactory().bulk(\"Fe\", cubic=True).repeat(10)\n",
    "\n",
    "neigh = bcc.get_neighbors(num_neighbors=8)"
   ]
  },
  {
   "cell_type": "code",
   "execution_count": 4,
   "id": "b2540f68",
   "metadata": {},
   "outputs": [],
   "source": [
    "J = 0.05 * neigh.get_shell_matrix()[0]\n",
    "\n",
    "mc = MC(len(bcc))\n",
    "mc.set_heisenberg_coeff(J)\n",
    "# Use this command to turn on spin dynamics\n",
    "# mc.switch_spin_dynamics()\n",
    "m_lst = []\n",
    "T_lst = np.arange(0, 1600, 100)\n",
    "for T in T_lst:\n",
    "    mc.run(temperature=T, number_of_iterations=10000)\n",
    "    m_lst.append(mc.get_magnetization()[-1])"
   ]
  },
  {
   "cell_type": "code",
   "execution_count": 5,
   "id": "96e733b9",
   "metadata": {},
   "outputs": [
    {
     "data": {
      "text/plain": [
       "[<matplotlib.lines.Line2D at 0x7f160a4ff2d0>]"
      ]
     },
     "execution_count": 5,
     "metadata": {},
     "output_type": "execute_result"
    },
    {
     "data": {
      "image/png": "[encoded data removed]",
      "text/plain": [
       "<Figure size 640x480 with 1 Axes>"
      ]
     },
     "metadata": {},
     "output_type": "display_data"
    }
   ],
   "source": [
    "plt.xlabel(\"Temperature K\")\n",
    "plt.ylabel(\"Magnetization\")\n",
    "plt.ylim([0, 1])\n",
    "plt.plot(T_lst, m_lst)"
   ]
  },
  {
   "cell_type": "markdown",
   "id": "38c184fb",
   "metadata": {},
   "source": [
    "Here, as we chose the Heisenberg parameter randomly, the Curie temperature is somewhat higher than the experimental value of 1,043 K. In addition, since the system is relatively small, the total magnetization after the transition does not completely vanish. The residual magnetization values above the Curie temperature can therefore vary each time you run the simulation. The unit if the magnetization is given by the Heisenberg parameter. Here the calculation was done using Monte Carlo, but by setting `mc.switch_spin_dynamics()` you can also turn on spin dynamics (cf. code above). The results after convergence should be more or less the same."
   ]
  },
  {
   "cell_type": "markdown",
   "id": "8b1fed03",
   "metadata": {},
   "source": [
    "## Thermodynamic integration"
   ]
  },
  {
   "cell_type": "markdown",
   "id": "ef3e00f3-6e53-44d7-ab4e-3ebd60133215",
   "metadata": {},
   "source": [
    "Let's now take a look at the energy difference of iron in the two most prominent phases: Face-Centered-Cubic (fcc) and Body-Centered-Cubic (bcc). The energy difference can be calculated using [Thermodynamic Integration](https://en.wikipedia.org/wiki/Thermodynamic_integration), where we vary the unitless $\\lambda$ parameter (cf. [Wikipedia](https://en.wikipedia.org/wiki/Thermodynamic_integration#Derivation)) and integrate over the measured potential energies."
   ]
  },
  {
   "cell_type": "code",
   "execution_count": 6,
   "id": "110b315b",
   "metadata": {},
   "outputs": [],
   "source": [
    "fcc = StructureFactory().bulk(\"Fe\", crystalstructure=\"fcc\", a=3.5, cubic=True).repeat(10)\n",
    "\n",
    "# Let's make a fictitious bcc structure by applying a strain of -10% along z.\n",
    "# This obviously does not create a real bcc structure, but it's good enough for our purpose to find the right neighbors\n",
    "bcc = fcc.apply_strain([0, 0, -0.1], return_box=True)\n",
    "\n",
    "neigh_fcc = fcc.get_neighbors()\n",
    "neigh_bcc = bcc.get_neighbors(num_neighbors=8)"
   ]
  },
  {
   "cell_type": "code",
   "execution_count": 7,
   "id": "7f61d836",
   "metadata": {},
   "outputs": [],
   "source": [
    "J_fcc = -0.1\n",
    "J_bcc = 0.5"
   ]
  },
  {
   "cell_type": "code",
   "execution_count": 8,
   "id": "a04adf31",
   "metadata": {},
   "outputs": [],
   "source": [
    "mc = MC(len(fcc))\n",
    "mc.set_heisenberg_coeff(J_bcc * neigh_bcc.get_shell_matrix()[0])\n",
    "mc.set_heisenberg_coeff(J_fcc * neigh_fcc.get_shell_matrix()[0], index=1)"
   ]
  },
  {
   "cell_type": "code",
   "execution_count": 9,
   "id": "55a4c4a7",
   "metadata": {},
   "outputs": [],
   "source": [
    "ti_lambda = np.linspace(0, 1, 11)\n",
    "temperature = 300"
   ]
  },
  {
   "cell_type": "code",
   "execution_count": null,
   "id": "12103d66",
   "metadata": {},
   "outputs": [],
   "source": [
    "E_lst = []\n",
    "relaxation_steps = 5000\n",
    "measurement_steps = 5000\n",
    "for ll in ti_lambda:\n",
    "    mc.set_lambda(ll)\n",
    "    mc.run(temperature=temperature, number_of_iterations=relaxation_steps)\n",
    "    mc.run(temperature=temperature, number_of_iterations=measurement_steps)\n",
    "    E_lst.append(\n",
    "        [mc.get_mean_energy(index=ii) for ii in [0, 1]]\n",
    "    )"
   ]
  },
  {
   "cell_type": "code",
   "execution_count": null,
   "id": "d8f7f333",
   "metadata": {},
   "outputs": [],
   "source": [
    "E_diff = np.diff(E_lst, axis=-1).flatten() / len(fcc)\n",
    "plt.xlabel(\"lambda\")\n",
    "plt.ylabel(\"E_bcc - E_fcc\")\n",
    "plt.plot(ti_lambda, E_diff);"
   ]
  },
  {
   "cell_type": "code",
   "execution_count": null,
   "id": "b70a0bb0",
   "metadata": {},
   "outputs": [],
   "source": [
    "print(\"The free energy difference between bcc and fcc at 300 K is\", E_diff.sum() * np.diff(ti_lambda).mean(), \"eV\")"
   ]
  },
  {
   "cell_type": "markdown",
   "id": "35a34b81",
   "metadata": {},
   "source": [
    "## Metadynamics"
   ]
  },
  {
   "cell_type": "markdown",
   "id": "a992c792-8fe8-41be-ba54-cc8f726cee5f",
   "metadata": {},
   "source": [
    "[Metadynamics](https://en.wikipedia.org/wiki/Metadynamics) is a simulation method which allows for the free energy distribution along a collective variable defined by the user. In mamonca, you can use the total magnetization as the collective variable, meaning you can obtain the free energy distribution along the total magnetization. For this, you only need to call `set_metadynamics` before `run`, where you must also specify the maximum magnetization value. In order to obtain a reliable result, you should also test the robustness by varying `energy_increment` and `length_scale` (cf. [Wikipedia](https://en.wikipedia.org/wiki/Metadynamics#Algorithm), where `energy_increment` is called $\\omega$ and `length_scale` is called $\\sigma$)"
   ]
  },
  {
   "cell_type": "code",
   "execution_count": null,
   "id": "0dee5e1a",
   "metadata": {},
   "outputs": [],
   "source": [
    "# Create bcc structure (which is the ground state of iron)\n",
    "bcc = StructureFactory().bulk(\"Fe\", cubic=True).repeat(10)\n",
    "\n",
    "neigh = bcc.get_neighbors(num_neighbors=8)"
   ]
  },
  {
   "cell_type": "code",
   "execution_count": null,
   "id": "aa94c95b",
   "metadata": {},
   "outputs": [],
   "source": [
    "J = 0.05 * neigh.get_shell_matrix()[0]\n",
    "\n",
    "mc = MC(len(bcc))\n",
    "mc.set_heisenberg_coeff(J)\n",
    "temperature = 1000\n",
    "mc.set_metadynamics(max_range=1)\n",
    "mc.run(temperature=temperature, number_of_iterations=100000)\n",
    "\n",
    "meta = mc.get_metadynamics_free_energy()"
   ]
  },
  {
   "cell_type": "code",
   "execution_count": null,
   "id": "7abfdf91",
   "metadata": {},
   "outputs": [],
   "source": [
    "plt.xlabel(\"Magnetization\")\n",
    "plt.ylabel(\"Free energy eV\")\n",
    "plt.plot(meta[\"magnetization\"], meta[\"free_energy\"])"
   ]
  },
  {
   "cell_type": "markdown",
   "id": "b8bf7959-f89f-43a1-ba9f-ca4e30678c2d",
   "metadata": {},
   "source": [
    "The free energy minimum shows the most stable state. In this case it is around 0.5. Metadynamics, however, often requires a meticulous sampling, meaning with the standard energy increment of 0.001, you might overshoot and miss the global minimum. For a real measurement, it is recommended to make it as small as possible, meaning you should estimate the amount of time needed to run your calculation with Metadynamics with a small energy increment value and see what would be an acceptable total computation time."
   ]
  },
  {
   "cell_type": "code",
   "execution_count": null,
   "id": "9bf9c044-1a27-45b1-a582-cf72fddc5bb8",
   "metadata": {},
   "outputs": [],
   "source": []
  }
 ],
 "metadata": {
  "kernelspec": {
   "display_name": "pyiron",
   "language": "python",
   "name": "pyiron"
  },
  "language_info": {
   "codemirror_mode": {
    "name": "ipython",
    "version": 3
   },
   "file_extension": ".py",
   "mimetype": "text/x-python",
   "name": "python",
   "nbconvert_exporter": "python",
   "pygments_lexer": "ipython3",
   "version": "3.11.8"
  }
 },
 "nbformat": 4,
 "nbformat_minor": 5
}
